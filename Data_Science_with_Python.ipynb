{
  "cells": [
    {
      "cell_type": "markdown",
      "metadata": {
        "id": "3zMwWkDdv8Cb"
      },
      "source": [
        "#Assignments:  tinyurl.com/pds-8-task"
      ]
    },
    {
      "cell_type": "markdown",
      "metadata": {
        "id": "3vxuuYH3IKB9"
      },
      "source": [
        "#Data Cleaning"
      ]
    },
    {
      "cell_type": "code",
      "execution_count": null,
      "metadata": {
        "id": "PBZUqjiAG0Od"
      },
      "outputs": [],
      "source": [
        "import pandas as pd\n",
        "import numpy as np\n",
        "# this is uploaded using terminal"
      ]
    },
    {
      "cell_type": "code",
      "execution_count": null,
      "metadata": {
        "colab": {
          "base_uri": "https://localhost:8080/"
        },
        "id": "wKmw7w7aHCQG",
        "outputId": "5f0c8420-2e78-41fa-a653-b4f1b3690733"
      },
      "outputs": [
        {
          "name": "stdout",
          "output_type": "stream",
          "text": [
            "      Name   Age   Salary Department Country\n",
            "0    Alice    25    50000         HR      Us\n",
            "1      Bob    30    60000         IT      us\n",
            "2    Alice    25    50000    Finance      Uk\n",
            "3   Malice   -12    50000         HR     Ban\n",
            "4  Charlie    30  7000000       None      uK\n",
            "5      Bob    30    60000         IT      us\n",
            "6     None  None    45000    Finance      In\n",
            "7  Charlie    -1    50000         IT      uK\n"
          ]
        }
      ],
      "source": [
        "data = {\n",
        "    \"Name\": [\"Alice\", \"Bob\", \"Alice\", \"Malice\", \"Charlie\", \"Bob\", None, \"Charlie\"],\n",
        "    \"Age\": [\"25\", \"30\", \"25\", -12, 30, \"30\", None, -1],\n",
        "    \"Salary\": [50000, 60000, 50000, 50000, 7000000, 60000, 45000, 50000],\n",
        "    \"Department\": [\"HR\", \"IT\", \"Finance\", \"HR\", None, \"IT\", \"Finance\", \"IT\"],\n",
        "    \"Country\": [\"Us\", \"us\", \"Uk\", \"Ban\", \"uK\", \"us\", \"In\", \"uK\"]\n",
        "}\n",
        "\n",
        "df = pd.DataFrame(data)\n",
        "\n",
        "print(df)"
      ]
    },
    {
      "cell_type": "code",
      "execution_count": null,
      "metadata": {
        "colab": {
          "base_uri": "https://localhost:8080/"
        },
        "id": "Ar6KudSZHDE_",
        "outputId": "e7acdc29-2c7a-4d6e-d8fc-0be55b703c59"
      },
      "outputs": [
        {
          "name": "stdout",
          "output_type": "stream",
          "text": [
            "After Removing Duplicates:\n",
            "      Name   Age   Salary Department Country\n",
            "0    Alice    25    50000         HR      Us\n",
            "1      Bob    30    60000         IT      us\n",
            "2    Alice    25    50000    Finance      Uk\n",
            "3   Malice   -12    50000         HR     Ban\n",
            "4  Charlie    30  7000000       None      uK\n",
            "6     None  None    45000    Finance      In\n",
            "7  Charlie    -1    50000         IT      uK \n",
            "\n"
          ]
        }
      ],
      "source": [
        "# 1. Remove Duplicates\n",
        "df_no_duplicates = df.drop_duplicates()\n",
        "print(\"After Removing Duplicates:\")\n",
        "print(df_no_duplicates, \"\\n\")"
      ]
    },
    {
      "cell_type": "code",
      "execution_count": null,
      "metadata": {
        "colab": {
          "base_uri": "https://localhost:8080/"
        },
        "id": "jph1sPK3Jsft",
        "outputId": "fdc450a2-3486-4410-cf8a-94a09ec919c6"
      },
      "outputs": [
        {
          "name": "stdout",
          "output_type": "stream",
          "text": [
            "DataFrame After Dropping Duplicates Based on 'Name' and 'Age':\n",
            "      Name   Age   Salary Department Country\n",
            "0    Alice    25    50000         HR      Us\n",
            "1      Bob    30    60000         IT      us\n",
            "3   Malice   -12    50000         HR     Ban\n",
            "4  Charlie    30  7000000       None      uK\n",
            "6     None  None    45000    Finance      In\n",
            "7  Charlie    -1    50000         IT      uK \n",
            "\n"
          ]
        }
      ],
      "source": [
        "# Remove Duplicates based on specific fields\n",
        "\n",
        "df_no_duplicates = df.drop_duplicates(subset=[\"Name\", \"Age\"])\n",
        "print(\"DataFrame After Dropping Duplicates Based on 'Name' and 'Age':\")\n",
        "print(df_no_duplicates, \"\\n\")"
      ]
    },
    {
      "cell_type": "code",
      "execution_count": null,
      "metadata": {
        "colab": {
          "base_uri": "https://localhost:8080/"
        },
        "id": "u2dJwrkvHH03",
        "outputId": "a415ab44-d904-4854-fe92-3dad2ccb3454"
      },
      "outputs": [
        {
          "name": "stdout",
          "output_type": "stream",
          "text": [
            "After Removing Outliers:\n",
            "      Name   Age  Salary Department Country\n",
            "0    Alice    25   50000         HR      Us\n",
            "1      Bob    30   60000         IT      us\n",
            "3   Malice   -12   50000         HR     Ban\n",
            "6     None  None   45000    Finance      In\n",
            "7  Charlie    -1   50000         IT      uK \n",
            "\n"
          ]
        }
      ],
      "source": [
        "# 2. Detect and Remove Outliers (Salary > 1,000,000 is considered an outlier)\n",
        "df_no_outliers = df_no_duplicates[df_no_duplicates[\"Salary\"] < 1000000]\n",
        "print(\"After Removing Outliers:\")\n",
        "print(df_no_outliers, \"\\n\")"
      ]
    },
    {
      "cell_type": "code",
      "execution_count": null,
      "metadata": {
        "colab": {
          "base_uri": "https://localhost:8080/"
        },
        "id": "rr2j5oUWH6gl",
        "outputId": "c21fae30-cd69-443f-a2e7-88aedaaf7d82"
      },
      "outputs": [
        {
          "name": "stdout",
          "output_type": "stream",
          "text": [
            "After Removing Irrelevant Data:\n",
            "      Name  Age  Salary Department Country\n",
            "0    Alice   25   50000         HR      Us\n",
            "1      Bob   30   60000         IT      us\n",
            "3   Malice  -12   50000         HR     Ban\n",
            "7  Charlie   -1   50000         IT      uK \n",
            "\n"
          ]
        }
      ],
      "source": [
        "# 3. Remove Irrelevant Data (Removing rows with Department = None)\n",
        "df_relevant = df_no_outliers.dropna(subset=[\"Name\"])\n",
        "print(\"After Removing Irrelevant Data:\")\n",
        "print(df_relevant, \"\\n\")"
      ]
    },
    {
      "cell_type": "code",
      "execution_count": null,
      "metadata": {
        "colab": {
          "base_uri": "https://localhost:8080/"
        },
        "id": "I7LSm37hH7-0",
        "outputId": "ebf8c0bd-d260-4dc6-f892-b99e06aebe54"
      },
      "outputs": [
        {
          "name": "stdout",
          "output_type": "stream",
          "text": [
            "After Standardizing Capitalization:\n",
            "      Name  Age  Salary Department Country\n",
            "0    Alice   25   50000         HR      US\n",
            "1      Bob   30   60000         IT      US\n",
            "3   Malice  -12   50000         HR     BAN\n",
            "7  Charlie   -1   50000         IT      UK \n",
            "\n"
          ]
        },
        {
          "name": "stderr",
          "output_type": "stream",
          "text": [
            "<ipython-input-12-283de55a1b87>:2: SettingWithCopyWarning: \n",
            "A value is trying to be set on a copy of a slice from a DataFrame.\n",
            "Try using .loc[row_indexer,col_indexer] = value instead\n",
            "\n",
            "See the caveats in the documentation: https://pandas.pydata.org/pandas-docs/stable/user_guide/indexing.html#returning-a-view-versus-a-copy\n",
            "  df_relevant[\"Country\"] = df_relevant[\"Country\"].str.upper()\n"
          ]
        }
      ],
      "source": [
        "# 4. Standardize Capitalization (Country names)\n",
        "df_relevant[\"Country\"] = df_relevant[\"Country\"].str.upper()\n",
        "print(\"After Standardizing Capitalization:\")\n",
        "print(df_relevant, \"\\n\")"
      ]
    },
    {
      "cell_type": "code",
      "execution_count": null,
      "metadata": {
        "colab": {
          "base_uri": "https://localhost:8080/"
        },
        "id": "8sXBxMYSH9eS",
        "outputId": "504ece9f-3baf-42b5-8bf0-94e6a0806d3d"
      },
      "outputs": [
        {
          "name": "stdout",
          "output_type": "stream",
          "text": [
            "After Converting Data Type:\n",
            "      Name  Age  Salary Department Country\n",
            "0    Alice   25   50000         HR      US\n",
            "1      Bob   30   60000         IT      US\n",
            "3   Malice  -12   50000         HR     BAN\n",
            "7  Charlie   -1   50000         IT      UK \n",
            "\n"
          ]
        },
        {
          "name": "stderr",
          "output_type": "stream",
          "text": [
            "<ipython-input-13-d613ea937478>:2: SettingWithCopyWarning: \n",
            "A value is trying to be set on a copy of a slice from a DataFrame.\n",
            "Try using .loc[row_indexer,col_indexer] = value instead\n",
            "\n",
            "See the caveats in the documentation: https://pandas.pydata.org/pandas-docs/stable/user_guide/indexing.html#returning-a-view-versus-a-copy\n",
            "  df_relevant[\"Age\"] = pd.to_numeric(df_relevant[\"Age\"], errors=\"coerce\")\n"
          ]
        }
      ],
      "source": [
        "# 5. Convert Data Type (Ensure 'Age' is numeric)\n",
        "df_relevant[\"Age\"] = pd.to_numeric(df_relevant[\"Age\"], errors=\"coerce\")\n",
        "print(\"After Converting Data Type:\")\n",
        "print(df_relevant, \"\\n\")"
      ]
    },
    {
      "cell_type": "code",
      "execution_count": null,
      "metadata": {
        "colab": {
          "base_uri": "https://localhost:8080/"
        },
        "id": "lfjskbHBH-_R",
        "outputId": "56cd31bc-4077-4779-9fd1-a2ae460c5dd5"
      },
      "outputs": [
        {
          "name": "stdout",
          "output_type": "stream",
          "text": [
            "After Fixing Structural Errors:\n",
            "      Name  Age  Salary Department Country\n",
            "0    Alice   25   50000         HR      US\n",
            "1      Bob   30   60000         IT      US\n",
            "3   Malice  -12   50000         HR     BAN\n",
            "7  Charlie   -1   50000         IT      UK \n",
            "\n"
          ]
        },
        {
          "name": "stderr",
          "output_type": "stream",
          "text": [
            "<ipython-input-14-7aa7900925f5>:2: SettingWithCopyWarning: \n",
            "A value is trying to be set on a copy of a slice from a DataFrame.\n",
            "Try using .loc[row_indexer,col_indexer] = value instead\n",
            "\n",
            "See the caveats in the documentation: https://pandas.pydata.org/pandas-docs/stable/user_guide/indexing.html#returning-a-view-versus-a-copy\n",
            "  df_relevant[\"Name\"] = df_relevant[\"Name\"].str.title()\n"
          ]
        }
      ],
      "source": [
        "# 6. Fixing Structure Errors (e.g., inconsistent column values)\n",
        "df_relevant[\"Name\"] = df_relevant[\"Name\"].str.title()\n",
        "print(\"After Fixing Structural Errors:\")\n",
        "print(df_relevant, \"\\n\")"
      ]
    },
    {
      "cell_type": "code",
      "execution_count": null,
      "metadata": {
        "colab": {
          "base_uri": "https://localhost:8080/"
        },
        "id": "AiCzpTrRIAak",
        "outputId": "82d94fcc-9be6-469e-f696-286759f00d8f"
      },
      "outputs": [
        {
          "name": "stdout",
          "output_type": "stream",
          "text": [
            "After Fixing Errors:\n",
            "      Name   Age  Salary Department Country\n",
            "0    Alice  25.0   50000         HR      US\n",
            "1      Bob  30.0   60000         IT      US\n",
            "3   Malice   NaN   50000         HR     BAN\n",
            "7  Charlie   NaN   50000         IT      UK \n",
            "\n"
          ]
        },
        {
          "name": "stderr",
          "output_type": "stream",
          "text": [
            "<ipython-input-15-7faba46f0ef8>:2: SettingWithCopyWarning: \n",
            "A value is trying to be set on a copy of a slice from a DataFrame.\n",
            "Try using .loc[row_indexer,col_indexer] = value instead\n",
            "\n",
            "See the caveats in the documentation: https://pandas.pydata.org/pandas-docs/stable/user_guide/indexing.html#returning-a-view-versus-a-copy\n",
            "  df_relevant[\"Age\"] = df_relevant[\"Age\"].apply(lambda x: x if x >= 0 else np.nan)\n"
          ]
        }
      ],
      "source": [
        "# 7. Fix Errors (Replace negative age values with NaN)\n",
        "df_relevant[\"Age\"] = df_relevant[\"Age\"].apply(lambda x: x if x >= 0 else np.nan)\n",
        "print(\"After Fixing Errors:\")\n",
        "print(df_relevant, \"\\n\")"
      ]
    },
    {
      "cell_type": "code",
      "execution_count": null,
      "metadata": {
        "colab": {
          "base_uri": "https://localhost:8080/"
        },
        "id": "PAbe2u6IIB6V",
        "outputId": "4787bfd3-42ad-404b-8bf8-9674e4daf436"
      },
      "outputs": [
        {
          "name": "stdout",
          "output_type": "stream",
          "text": [
            "After Language Translation:\n",
            "      Name   Age  Salary Department         Country\n",
            "0    Alice  25.0   50000         HR   United States\n",
            "1      Bob  30.0   60000         IT   United States\n",
            "3   Malice   NaN   50000         HR             NaN\n",
            "7  Charlie   NaN   50000         IT  United Kingdom \n",
            "\n"
          ]
        },
        {
          "name": "stderr",
          "output_type": "stream",
          "text": [
            "<ipython-input-16-baa08afd9792>:3: SettingWithCopyWarning: \n",
            "A value is trying to be set on a copy of a slice from a DataFrame.\n",
            "Try using .loc[row_indexer,col_indexer] = value instead\n",
            "\n",
            "See the caveats in the documentation: https://pandas.pydata.org/pandas-docs/stable/user_guide/indexing.html#returning-a-view-versus-a-copy\n",
            "  df_relevant[\"Country\"] = df_relevant[\"Country\"].map(country_translation)\n"
          ]
        }
      ],
      "source": [
        "# 8. Language Translation (Translating Country Codes to Full Names)\n",
        "country_translation = {\"US\": \"United States\", \"UK\": \"United Kingdom\", \"IN\": \"India\"}\n",
        "df_relevant[\"Country\"] = df_relevant[\"Country\"].map(country_translation)\n",
        "print(\"After Language Translation:\")\n",
        "print(df_relevant, \"\\n\")"
      ]
    },
    {
      "cell_type": "code",
      "execution_count": null,
      "metadata": {
        "colab": {
          "base_uri": "https://localhost:8080/"
        },
        "id": "IGm0-gV8IHnF",
        "outputId": "fbb7dd61-de34-4ce9-bc9f-9de8664fb8d5"
      },
      "outputs": [
        {
          "name": "stdout",
          "output_type": "stream",
          "text": [
            "After Handling Missing Values:\n",
            "      Name   Age  Salary Department         Country\n",
            "0    Alice  25.0   50000         HR   United States\n",
            "1      Bob  30.0   60000         IT   United States\n",
            "3   Malice  25.0   50000         HR             NaN\n",
            "7  Charlie  25.0   50000         IT  United Kingdom \n",
            "\n"
          ]
        },
        {
          "name": "stderr",
          "output_type": "stream",
          "text": [
            "<ipython-input-17-cdb7ee837fc4>:2: FutureWarning: A value is trying to be set on a copy of a DataFrame or Series through chained assignment using an inplace method.\n",
            "The behavior will change in pandas 3.0. This inplace method will never work because the intermediate object on which we are setting values always behaves as a copy.\n",
            "\n",
            "For example, when doing 'df[col].method(value, inplace=True)', try using 'df.method({col: value}, inplace=True)' or df[col] = df[col].method(value) instead, to perform the operation inplace on the original object.\n",
            "\n",
            "\n",
            "  df_relevant[\"Age\"].fillna(df_relevant[\"Age\"].min(), inplace=True)\n",
            "<ipython-input-17-cdb7ee837fc4>:2: SettingWithCopyWarning: \n",
            "A value is trying to be set on a copy of a slice from a DataFrame\n",
            "\n",
            "See the caveats in the documentation: https://pandas.pydata.org/pandas-docs/stable/user_guide/indexing.html#returning-a-view-versus-a-copy\n",
            "  df_relevant[\"Age\"].fillna(df_relevant[\"Age\"].min(), inplace=True)\n"
          ]
        }
      ],
      "source": [
        "# 9. Handle Missing Values (Fill missing Age with mean age)\n",
        "df_relevant[\"Age\"].fillna(df_relevant[\"Age\"].min(), inplace=True)\n",
        "print(\"After Handling Missing Values:\")\n",
        "print(df_relevant, \"\\n\")"
      ]
    },
    {
      "cell_type": "markdown",
      "metadata": {
        "id": "LrPstVOTosZd"
      },
      "source": [
        "###Task\n",
        "\n",
        "    data = [\n",
        "    {\"ID\": 1, \"Name\": \"Alice\", \"Age\": 28, \"Salary\": 45000},\n",
        "    {\"ID\": 2, \"Name\": \"Bob\", \"Age\": 35, \"Salary\": 55000},\n",
        "    {\"ID\": 3, \"Name\": \"Charlie\", \"Age\": 40, \"Salary\": 60000},\n",
        "    {\"ID\": 4, \"Name\": \"Alice\", \"Age\": 28, \"Salary\": 45000},\n",
        "    {\"ID\": 5, \"Name\": \"Frank\", \"Age\": 33, \"Salary\": 70000},\n",
        "    {\"ID\": 6, \"Name\": \"Grace\", \"Age\": None, \"Salary\": None},\n",
        "    {\"ID\": 7, \"Name\": \"InvalidEntry\", \"Age\": 999, \"Salary\": 1000000}\n",
        "]\n",
        "\n",
        "\n",
        "     \n",
        "\n",
        "|   Tasks  | Tasks |\n",
        "| -------- | ------- |\n",
        "| 1. Remove duplicates: |2. Detect and remove outliers:  |\n",
        "| 3. Remove irrelevant data: |4. Standardize capitalization:     |\n",
        "| 5. Convert data types:    | 6. Handle missing values:    |"
      ]
    },
    {
      "cell_type": "markdown",
      "metadata": {
        "id": "XKEuk6VA9bFx"
      },
      "source": [
        "#Sci-Kit Learn"
      ]
    },
    {
      "cell_type": "code",
      "execution_count": null,
      "metadata": {
        "colab": {
          "base_uri": "https://localhost:8080/"
        },
        "id": "lq8zVyTR9eQA",
        "outputId": "37adf139-0946-4c72-bc49-0ee9e94e0d37"
      },
      "outputs": [
        {
          "name": "stdout",
          "output_type": "stream",
          "text": [
            "Requirement already satisfied: pandas in /usr/local/lib/python3.11/dist-packages (2.2.2)\n",
            "Requirement already satisfied: numpy in /usr/local/lib/python3.11/dist-packages (1.26.4)\n",
            "Requirement already satisfied: scikit-learn in /usr/local/lib/python3.11/dist-packages (1.6.1)\n",
            "Requirement already satisfied: matplotlib in /usr/local/lib/python3.11/dist-packages (3.10.0)\n",
            "Requirement already satisfied: seaborn in /usr/local/lib/python3.11/dist-packages (0.13.2)\n",
            "Requirement already satisfied: python-dateutil>=2.8.2 in /usr/local/lib/python3.11/dist-packages (from pandas) (2.8.2)\n",
            "Requirement already satisfied: pytz>=2020.1 in /usr/local/lib/python3.11/dist-packages (from pandas) (2024.2)\n",
            "Requirement already satisfied: tzdata>=2022.7 in /usr/local/lib/python3.11/dist-packages (from pandas) (2025.1)\n",
            "Requirement already satisfied: scipy>=1.6.0 in /usr/local/lib/python3.11/dist-packages (from scikit-learn) (1.13.1)\n",
            "Requirement already satisfied: joblib>=1.2.0 in /usr/local/lib/python3.11/dist-packages (from scikit-learn) (1.4.2)\n",
            "Requirement already satisfied: threadpoolctl>=3.1.0 in /usr/local/lib/python3.11/dist-packages (from scikit-learn) (3.5.0)\n",
            "Requirement already satisfied: contourpy>=1.0.1 in /usr/local/lib/python3.11/dist-packages (from matplotlib) (1.3.1)\n",
            "Requirement already satisfied: cycler>=0.10 in /usr/local/lib/python3.11/dist-packages (from matplotlib) (0.12.1)\n",
            "Requirement already satisfied: fonttools>=4.22.0 in /usr/local/lib/python3.11/dist-packages (from matplotlib) (4.55.7)\n",
            "Requirement already satisfied: kiwisolver>=1.3.1 in /usr/local/lib/python3.11/dist-packages (from matplotlib) (1.4.8)\n",
            "Requirement already satisfied: packaging>=20.0 in /usr/local/lib/python3.11/dist-packages (from matplotlib) (24.2)\n",
            "Requirement already satisfied: pillow>=8 in /usr/local/lib/python3.11/dist-packages (from matplotlib) (11.1.0)\n",
            "Requirement already satisfied: pyparsing>=2.3.1 in /usr/local/lib/python3.11/dist-packages (from matplotlib) (3.2.1)\n",
            "Requirement already satisfied: six>=1.5 in /usr/local/lib/python3.11/dist-packages (from python-dateutil>=2.8.2->pandas) (1.17.0)\n"
          ]
        }
      ],
      "source": [
        "pip install pandas numpy scikit-learn matplotlib seaborn"
      ]
    },
    {
      "cell_type": "code",
      "execution_count": null,
      "metadata": {
        "colab": {
          "base_uri": "https://localhost:8080/",
          "height": 341
        },
        "id": "q1iDtQRh9fe6",
        "outputId": "43c2766c-6be4-4039-9fbd-f5237fe3747c"
      },
      "outputs": [
        {
          "ename": "KeyboardInterrupt",
          "evalue": "",
          "output_type": "error",
          "traceback": [
            "\u001b[0;31m---------------------------------------------------------------------------\u001b[0m",
            "\u001b[0;31mKeyboardInterrupt\u001b[0m                         Traceback (most recent call last)",
            "\u001b[0;32m<ipython-input-19-0ed31a341422>\u001b[0m in \u001b[0;36m<cell line: 0>\u001b[0;34m()\u001b[0m\n\u001b[1;32m      1\u001b[0m \u001b[0;32mimport\u001b[0m \u001b[0mnumpy\u001b[0m \u001b[0;32mas\u001b[0m \u001b[0mnp\u001b[0m\u001b[0;34m\u001b[0m\u001b[0;34m\u001b[0m\u001b[0m\n\u001b[1;32m      2\u001b[0m \u001b[0;32mimport\u001b[0m \u001b[0mpandas\u001b[0m \u001b[0;32mas\u001b[0m \u001b[0mpd\u001b[0m\u001b[0;34m\u001b[0m\u001b[0;34m\u001b[0m\u001b[0m\n\u001b[0;32m----> 3\u001b[0;31m \u001b[0;32mimport\u001b[0m \u001b[0mseaborn\u001b[0m \u001b[0;32mas\u001b[0m \u001b[0msns\u001b[0m\u001b[0;34m\u001b[0m\u001b[0;34m\u001b[0m\u001b[0m\n\u001b[0m\u001b[1;32m      4\u001b[0m \u001b[0;32mfrom\u001b[0m \u001b[0msklearn\u001b[0m\u001b[0;34m.\u001b[0m\u001b[0mmodel_selection\u001b[0m \u001b[0;32mimport\u001b[0m \u001b[0mtrain_test_split\u001b[0m\u001b[0;34m\u001b[0m\u001b[0;34m\u001b[0m\u001b[0m\n\u001b[1;32m      5\u001b[0m \u001b[0;32mfrom\u001b[0m \u001b[0msklearn\u001b[0m\u001b[0;34m.\u001b[0m\u001b[0mpreprocessing\u001b[0m \u001b[0;32mimport\u001b[0m \u001b[0mStandardScaler\u001b[0m\u001b[0;34m\u001b[0m\u001b[0;34m\u001b[0m\u001b[0m\n",
            "\u001b[0;32m/usr/local/lib/python3.11/dist-packages/seaborn/__init__.py\u001b[0m in \u001b[0;36m<module>\u001b[0;34m\u001b[0m\n\u001b[1;32m      6\u001b[0m \u001b[0;32mfrom\u001b[0m \u001b[0;34m.\u001b[0m\u001b[0mregression\u001b[0m \u001b[0;32mimport\u001b[0m \u001b[0;34m*\u001b[0m  \u001b[0;31m# noqa: F401,F403\u001b[0m\u001b[0;34m\u001b[0m\u001b[0;34m\u001b[0m\u001b[0m\n\u001b[1;32m      7\u001b[0m \u001b[0;32mfrom\u001b[0m \u001b[0;34m.\u001b[0m\u001b[0mcategorical\u001b[0m \u001b[0;32mimport\u001b[0m \u001b[0;34m*\u001b[0m  \u001b[0;31m# noqa: F401,F403\u001b[0m\u001b[0;34m\u001b[0m\u001b[0;34m\u001b[0m\u001b[0m\n\u001b[0;32m----> 8\u001b[0;31m \u001b[0;32mfrom\u001b[0m \u001b[0;34m.\u001b[0m\u001b[0mdistributions\u001b[0m \u001b[0;32mimport\u001b[0m \u001b[0;34m*\u001b[0m  \u001b[0;31m# noqa: F401,F403\u001b[0m\u001b[0;34m\u001b[0m\u001b[0;34m\u001b[0m\u001b[0m\n\u001b[0m\u001b[1;32m      9\u001b[0m \u001b[0;32mfrom\u001b[0m \u001b[0;34m.\u001b[0m\u001b[0mmatrix\u001b[0m \u001b[0;32mimport\u001b[0m \u001b[0;34m*\u001b[0m  \u001b[0;31m# noqa: F401,F403\u001b[0m\u001b[0;34m\u001b[0m\u001b[0;34m\u001b[0m\u001b[0m\n\u001b[1;32m     10\u001b[0m \u001b[0;32mfrom\u001b[0m \u001b[0;34m.\u001b[0m\u001b[0mmiscplot\u001b[0m \u001b[0;32mimport\u001b[0m \u001b[0;34m*\u001b[0m  \u001b[0;31m# noqa: F401,F403\u001b[0m\u001b[0;34m\u001b[0m\u001b[0;34m\u001b[0m\u001b[0m\n",
            "\u001b[0;31mKeyboardInterrupt\u001b[0m: "
          ]
        }
      ],
      "source": [
        "import numpy as np\n",
        "import pandas as pd\n",
        "import seaborn as sns\n",
        "from sklearn.model_selection import train_test_split\n",
        "from sklearn.preprocessing import StandardScaler\n",
        "from sklearn.svm import SVC\n",
        "from sklearn.metrics import accuracy_score, f1_score\n",
        "from sklearn.impute import SimpleImputer"
      ]
    },
    {
      "cell_type": "code",
      "execution_count": null,
      "metadata": {
        "id": "Swl34vZM9h-Q"
      },
      "outputs": [],
      "source": [
        "# Load Titanic dataset from seaborn\n",
        "titanic = sns.load_dataset('titanic')\n",
        "\n",
        "# Display the first few rows of the dataset\n",
        "print(titanic.head())"
      ]
    },
    {
      "cell_type": "code",
      "execution_count": null,
      "metadata": {
        "id": "v4u1uJmAKral"
      },
      "outputs": [],
      "source": [
        "print(titanic.isnull().sum())"
      ]
    },
    {
      "cell_type": "code",
      "execution_count": null,
      "metadata": {
        "id": "u7UtdIBt9z2g"
      },
      "outputs": [],
      "source": [
        "# Drop rows where 'Survived' is missing\n",
        "titanic = titanic.dropna(subset=['survived'])\n",
        "\n",
        "# Handle missing data\n",
        "# Create an imputer for both numerical and categorical columns\n",
        "numerical_cols = ['age', 'fare']\n",
        "categorical_cols = ['embarked', 'sex']\n",
        "\n",
        "# Impute missing values in numerical columns with the median\n",
        "numerical_imputer = SimpleImputer(strategy='median')\n",
        "titanic[numerical_cols] = numerical_imputer.fit_transform(titanic[numerical_cols])\n",
        "\n",
        "# Impute missing values in categorical columns with the mode (most frequent value)\n",
        "categorical_imputer = SimpleImputer(strategy='most_frequent')\n",
        "titanic[categorical_cols] = categorical_imputer.fit_transform(titanic[categorical_cols])\n",
        "\n",
        "# Verify that missing values have been handled\n",
        "print(titanic.isnull().sum())\n"
      ]
    },
    {
      "cell_type": "code",
      "execution_count": null,
      "metadata": {
        "id": "0Z1DoZMC-E44"
      },
      "outputs": [],
      "source": [
        "# Encode 'Sex' and 'Embarked' as numerical features\n",
        "titanic['sex'] = titanic['sex'].map({'male': 0, 'female': 1})\n",
        "titanic['embarked'] = titanic['embarked'].map({'C': 0, 'Q': 1, 'S': 2})\n",
        "\n",
        "# Display the updated dataset\n",
        "print(titanic.head())"
      ]
    },
    {
      "cell_type": "code",
      "execution_count": null,
      "metadata": {
        "id": "M5Y3rIpR-Fyu"
      },
      "outputs": [],
      "source": [
        "# Select features and target\n",
        "X = titanic[['pclass', 'sex', 'age', 'sibsp', 'parch', 'fare', 'embarked']]\n",
        "y = titanic['survived']\n"
      ]
    },
    {
      "cell_type": "code",
      "execution_count": null,
      "metadata": {
        "id": "6lnrW0u3-JcI"
      },
      "outputs": [],
      "source": [
        "# Split the dataset into 80% training and 20% testing\n",
        "X_train, X_test, y_train, y_test = train_test_split(X, y, test_size=0.2, random_state=42)\n",
        "\n",
        "# Check the shape of the datasets\n",
        "print(f\"Training data shape: {X_train.shape}\")\n",
        "print(f\"Test data shape: {X_test.shape}\")\n"
      ]
    },
    {
      "cell_type": "code",
      "execution_count": null,
      "metadata": {
        "id": "9iqdcK1o-MG3"
      },
      "outputs": [],
      "source": [
        "# Standardize the features\n",
        "scaler = StandardScaler()\n",
        "X_train_scaled = scaler.fit_transform(X_train)\n",
        "X_test_scaled = scaler.transform(X_test)\n",
        "\n",
        "# Check the first few rows of scaled data\n",
        "print(X_train_scaled[:5])"
      ]
    },
    {
      "cell_type": "code",
      "execution_count": null,
      "metadata": {
        "id": "YL69JC-n-Oko"
      },
      "outputs": [],
      "source": [
        "# USING SVM\n",
        "# Initialize the SVM classifier (using a linear kernel)\n",
        "model = SVC(kernel='linear')\n",
        "\n",
        "# Train the model\n",
        "model.fit(X_train_scaled, y_train)\n",
        "\n",
        "# Make predictions on the test set\n",
        "y_pred = model.predict(X_test_scaled)\n",
        "\n",
        "# Display the predictions\n",
        "print(f\"Predictions: {y_pred[:5]}\")\n",
        "\n",
        "# Calculate accuracy\n",
        "accuracy = accuracy_score(y_test, y_pred)\n",
        "print(f\"Accuracy using SVC: {accuracy * 100:.2f}%\")\n",
        "\n"
      ]
    },
    {
      "cell_type": "code",
      "execution_count": null,
      "metadata": {
        "id": "4R5-FIW5XS4t"
      },
      "outputs": [],
      "source": [
        "# USING RANDOM FOREST\n",
        "from sklearn.ensemble import RandomForestClassifier\n",
        "\n",
        "model_rf = RandomForestClassifier()\n",
        "model_rf.fit(X_train_scaled, y_train)\n",
        "y_pred_rf = model_rf.predict(X_test_scaled)\n",
        "print(f\"Predictions: {y_pred[:5]}\")\n",
        "\n",
        "accuracy_rf = accuracy_score(y_test, y_pred_rf)\n",
        "print(f\"Accuracy with Random Forest: {accuracy_rf * 100:.2f}%\")"
      ]
    },
    {
      "cell_type": "code",
      "execution_count": null,
      "metadata": {
        "id": "DSpuJnUYYCdu"
      },
      "outputs": [],
      "source": [
        "# USING KNN\n",
        "from sklearn.neighbors import KNeighborsClassifier\n",
        "\n",
        "model_knn = KNeighborsClassifier(n_neighbors = 7)\n",
        "model_knn.fit(X_train_scaled, y_train)\n",
        "\n",
        "y_pred_knn = model_knn.predict(X_test_scaled)\n",
        "print(f\"Predictions: {y_pred_knn[:5]}\")\n",
        "\n",
        "accuracy_knn = accuracy_score(y_test, y_pred_knn)\n",
        "print(f\"Accuracy with Random Forest: {accuracy_knn * 100:.2f}%\")"
      ]
    },
    {
      "cell_type": "code",
      "execution_count": null,
      "metadata": {
        "id": "lqp3OC44-S1x"
      },
      "outputs": [],
      "source": [
        "from sklearn.model_selection import cross_val_score\n",
        "\n",
        "# Perform 5-fold cross-validation\n",
        "cv_scores = cross_val_score(model, X, y, cv=5)\n",
        "print(f\"Cross-validation scores: {cv_scores}\")\n",
        "print(f\"Average cross-validation score: {np.mean(cv_scores):.2f}\")\n"
      ]
    },
    {
      "cell_type": "markdown",
      "metadata": {
        "id": "G_fnebCBgNyh"
      },
      "source": [
        "#Linear Regression"
      ]
    },
    {
      "cell_type": "code",
      "execution_count": null,
      "metadata": {
        "id": "7qUzJhPcgTV5"
      },
      "outputs": [],
      "source": [
        "import numpy as np\n",
        "import pandas as pd\n",
        "from sklearn.model_selection import train_test_split\n",
        "from sklearn.linear_model import LinearRegression\n",
        "from sklearn.datasets import fetch_california_housing\n",
        "from sklearn.metrics import mean_squared_error, r2_score\n",
        "from sklearn.preprocessing import StandardScaler, PolynomialFeatures\n",
        "from sklearn.feature_selection import SelectKBest, f_regression"
      ]
    },
    {
      "cell_type": "code",
      "execution_count": null,
      "metadata": {
        "colab": {
          "base_uri": "https://localhost:8080/"
        },
        "id": "tuZCg390gWEJ",
        "outputId": "fb586793-d668-419c-a15f-786460164efc"
      },
      "outputs": [
        {
          "name": "stdout",
          "output_type": "stream",
          "text": [
            "[[   8.3252       41.            6.98412698    1.02380952  322.\n",
            "     2.55555556   37.88       -122.23      ]]\n",
            "[4.526]\n"
          ]
        }
      ],
      "source": [
        "california = fetch_california_housing()\n",
        "X = california.data\n",
        "y = california.target\n",
        "\n",
        "print(X[:1])\n",
        "print(y[:1])"
      ]
    },
    {
      "cell_type": "code",
      "execution_count": null,
      "metadata": {
        "colab": {
          "base_uri": "https://localhost:8080/"
        },
        "id": "tMi2SNAqgceR",
        "outputId": "7687cffa-597c-41d7-d9e9-1bf3a726a618"
      },
      "outputs": [
        {
          "name": "stdout",
          "output_type": "stream",
          "text": [
            "[[ 1.00000000e+00  8.32520000e+00  4.10000000e+01  6.98412698e+00\n",
            "   1.02380952e+00  3.22000000e+02  2.55555556e+00  3.78800000e+01\n",
            "  -1.22230000e+02  6.93089550e+01  3.41333200e+02  5.81442540e+01\n",
            "   8.52341905e+00  2.68071440e+03  2.12755111e+01  3.15358576e+02\n",
            "  -1.01758920e+03  1.68100000e+03  2.86349206e+02  4.19761905e+01\n",
            "   1.32020000e+04  1.04777778e+02  1.55308000e+03 -5.01143000e+03\n",
            "   4.87780297e+01  7.15041572e+00  2.24888889e+03  1.78483245e+01\n",
            "   2.64558730e+02 -8.53669841e+02  1.04818594e+00  3.29666667e+02\n",
            "   2.61640212e+00  3.87819048e+01 -1.25140238e+02  1.03684000e+05\n",
            "   8.22888889e+02  1.21973600e+04 -3.93580600e+04  6.53086420e+00\n",
            "   9.68044444e+01 -3.12365556e+02  1.43489440e+03 -4.63007240e+03\n",
            "   1.49401729e+04]]\n"
          ]
        }
      ],
      "source": [
        "poly = PolynomialFeatures(degree=2)\n",
        "X_poly = poly.fit_transform(X)\n",
        "print(X_poly[:1])\n",
        "selector = SelectKBest(f_regression, k=5)\n",
        "X_selected = selector.fit_transform(X_poly, y)"
      ]
    },
    {
      "cell_type": "code",
      "execution_count": null,
      "metadata": {
        "colab": {
          "base_uri": "https://localhost:8080/"
        },
        "id": "lBnQkYP7ge05",
        "outputId": "6d2d6d36-7cae-48ca-8ffc-406ec5574b65"
      },
      "outputs": [
        {
          "name": "stdout",
          "output_type": "stream",
          "text": [
            "Mean Squared Error (MSE): 0.5379393117533965\n",
            "R² (Coefficient of Determination): 0.5894874648405346\n"
          ]
        }
      ],
      "source": [
        "X_train, X_test, y_train, y_test = train_test_split(X_selected, y, test_size=0.2, random_state=42)\n",
        "\n",
        "scaler = StandardScaler()\n",
        "X_train = scaler.fit_transform(X_train)\n",
        "X_test = scaler.transform(X_test)\n",
        "\n",
        "model = LinearRegression()\n",
        "model.fit(X_train, y_train)\n",
        "\n",
        "y_pred = model.predict(X_test)\n",
        "\n",
        "mse = mean_squared_error(y_test, y_pred)\n",
        "r2 = r2_score(y_test, y_pred)\n",
        "\n",
        "print(f\"Mean Squared Error (MSE): {mse}\")\n",
        "print(f\"R² (Coefficient of Determination): {r2}\")\n"
      ]
    },
    {
      "cell_type": "code",
      "execution_count": null,
      "metadata": {
        "colab": {
          "base_uri": "https://localhost:8080/"
        },
        "id": "BZ4RZ3ByiIq5",
        "outputId": "c6a16dca-76a0-4536-d65c-4be19dc8a577"
      },
      "outputs": [
        {
          "name": "stdout",
          "output_type": "stream",
          "text": [
            "Predictions for new data: [10.21240914]\n"
          ]
        }
      ],
      "source": [
        "new_data = np.array([[9.3252, 24, 7.98412698, 1.02380952, 245., 2.99556, 31.88  , -121.23]])\n",
        "new_data_poly = poly.transform(new_data)\n",
        "new_data_selected = selector.transform(new_data_poly)\n",
        "new_data_scaled = scaler.transform(new_data_selected)\n",
        "new_predictions = model.predict(new_data_scaled)\n",
        "print(f\"Predictions for new data: {new_predictions}\")\n"
      ]
    },
    {
      "cell_type": "markdown",
      "metadata": {
        "id": "qFzKoaM_splE"
      },
      "source": [
        "#Decision Tree & Random Forest\n"
      ]
    },
    {
      "cell_type": "markdown",
      "metadata": {
        "id": "4w6evnTa17Sl"
      },
      "source": [
        "### **Decision Tree**\n",
        "\n",
        "A **Decision Tree** is a supervised learning algorithm used for classification and regression tasks. It works by splitting the data into subsets based on feature values, forming a tree-like structure where each internal node represents a feature, each branch represents a decision rule, and each leaf node represents an outcome.\n",
        "\n",
        "#### **How It Works with the Given Dataset:**\n",
        "\n",
        "1. **Selecting the Best Feature to Split:**\n",
        "   - The algorithm chooses the feature that provides the highest **information gain (IG)** or lowest **Gini impurity**.\n",
        "   - **Entropy** measures the impurity in the dataset:\n",
        "     $$\n",
        "     Entropy(S) = -\\sum_{i=1}^{c} p_i \\log_2(p_i)\n",
        "     $$\n",
        "     Where:\n",
        "     - \\( S \\) is the dataset\n",
        "     - \\( c \\) is the number of classes (here, \"Yes\" or \"No\" for wearing a coat)\n",
        "     - \\( p_i \\) is the proportion of class \\( i \\) in the dataset\n",
        "\n",
        "2. **Calculating Information Gain:**\n",
        "   $$\n",
        "   IG(S, A) = Entropy(S) - \\sum_{v \\in Values(A)} \\frac{|S_v|}{|S|} Entropy(S_v)\n",
        "   $$\n",
        "   Where:\n",
        "   - \\( A \\) is the attribute (e.g., Outlook, Temperature, Routine)\n",
        "   - \\( S_v \\) is the subset of \\( S \\) where attribute \\( A \\) has value \\( v \\)\n",
        "\n",
        "3. **Splitting the Dataset:**\n",
        "   - The feature with the highest IG is selected for the root node.\n",
        "   - The process repeats recursively on each subset.\n",
        "\n",
        "#### **Example:**\n",
        "- The algorithm might first split on **Temperature** because it significantly impacts the decision to wear a coat.\n",
        "- If **Temperature = Cold**, the tree may further split based on **Routine** (Indoor/Outdoor).\n",
        "- This continues until pure leaf nodes are reached.\n",
        "\n",
        "---\n",
        "\n",
        "### **Random Forest**\n",
        "\n",
        "A **Random Forest** is an ensemble learning method that builds multiple decision trees and merges their results to improve accuracy and control overfitting.\n",
        "\n",
        "#### **How It Works:**\n",
        "\n",
        "1. **Bootstrap Sampling (Bagging):**\n",
        "   - The algorithm generates multiple subsets of the original dataset by random sampling **with replacement**.\n",
        "\n",
        "2. **Building Multiple Decision Trees:**\n",
        "   - Each subset trains a separate decision tree.\n",
        "   - At each node, the algorithm selects the **best feature** from a random subset of all features (adding randomness).\n",
        "\n",
        "3. **Voting/Aggregation:**\n",
        "   - For classification tasks, each tree votes for a class, and the majority vote determines the final output.\n",
        "   - For regression, the average of outputs is taken.\n",
        "\n",
        "#### **Mathematical Representation:**\n",
        "- If there are \\( T \\) trees in the forest, the final classification output is:\n",
        "  $$\n",
        "  \\hat{y} = \\text{mode}\\{h_1(x), h_2(x), \\dots, h_T(x)\\}\n",
        "  $$\n",
        "  Where:\n",
        "  - \\( h_i(x) \\) is the prediction of the \\( i \\)-th decision tree for input \\( x \\)\n",
        "  - \\( mode \\) represents the majority vote\n",
        "\n",
        "---"
      ]
    },
    {
      "cell_type": "markdown",
      "metadata": {
        "id": "qELY_sqY24Rh"
      },
      "source": [
        "$$\n",
        "\\begin{array}{|c|c|c|c|c|}\n",
        "\\hline\n",
        "\\textbf{Day} & \\textbf{Outlook} & \\textbf{Temperature} & \\textbf{Routine} & \\textbf{Wear\\ Coat?} \\\\\n",
        "\\hline\n",
        "D_1 & \\text{Sunny}  & \\text{Cold}  & \\text{Indoor}  & \\text{No}  \\\\\n",
        "D_2 & \\text{Sunny}  & \\text{Warm}  & \\text{Outdoor} & \\text{No}  \\\\\n",
        "D_3 & \\text{Cloudy} & \\text{Warm}  & \\text{Indoor}  & \\text{No}  \\\\\n",
        "D_4 & \\text{Sunny}  & \\text{Warm}  & \\text{Indoor}  & \\text{No}  \\\\\n",
        "D_5 & \\text{Cloudy} & \\text{Cold}  & \\text{Indoor}  & \\text{Yes} \\\\\n",
        "D_6 & \\text{Cloudy} & \\text{Cold}  & \\text{Outdoor} & \\text{Yes} \\\\\n",
        "D_7 & \\text{Sunny}  & \\text{Cold}  & \\text{Outdoor} & \\text{Yes} \\\\\n",
        "\\hline\n",
        "\\end{array}\n",
        "$$\n",
        "\n"
      ]
    },
    {
      "cell_type": "markdown",
      "metadata": {
        "id": "h_VvS-bh2LP2"
      },
      "source": [
        "### **Decision Tree (Using the Dataset)**\n",
        "\n",
        "The goal is to predict whether to **wear a coat** based on **Outlook**, **Temperature**, and **Routine**.\n",
        "\n",
        "#### **Step 1: Calculate Entropy of the Entire Dataset**\n",
        "\n",
        "- Total instances = 7  \n",
        "- \"Yes\" = 3 (Days \\(D_5, D_6, D_7\\))  \n",
        "- \"No\" = 4 (Days \\(D_1, D_2, D_3, D_4\\))  \n",
        "\n",
        "The entropy of the dataset is:  \n",
        "$$\n",
        "Entropy(S) = -\\left(\\frac{4}{7} \\log_2 \\frac{4}{7} + \\frac{3}{7} \\log_2 \\frac{3}{7}\\right)\n",
        "$$\n",
        "Calculating:  \n",
        "$$\n",
        "Entropy(S) = -\\left(0.571 \\log_2(0.571) + 0.429 \\log_2(0.429)\\right)\n",
        "= -\\left(0.571 \\times -0.807 + 0.429 \\times -1.222\\right)\n",
        "= 0.985\n",
        "$$\n",
        "\n",
        "#### **Step 2: Calculate Information Gain for Each Attribute**\n",
        "\n",
        "1. **For Temperature (Cold/Warm):**\n",
        "   - **Cold:** Days \\(D_1, D_5, D_6, D_7\\) → Yes = 3, No = 1  \n",
        "     $$\n",
        "     Entropy_{Cold} = -\\left(\\frac{3}{4} \\log_2 \\frac{3}{4} + \\frac{1}{4} \\log_2 \\frac{1}{4}\\right) = 0.811\n",
        "     $$\n",
        "   - **Warm:** Days \\(D_2, D_3, D_4\\) → Yes = 0, No = 3  \n",
        "     $$\n",
        "     Entropy_{Warm} = -\\left(1 \\log_2(1) + 0 \\log_2(0)\\right) = 0\n",
        "     $$\n",
        "   - **Information Gain (IG):**  \n",
        "     $$\n",
        "     IG(S, Temperature) = 0.985 - \\left(\\frac{4}{7} \\times 0.811 + \\frac{3}{7} \\times 0\\right)\n",
        "     = 0.985 - 0.463 = 0.522\n",
        "     $$\n",
        "\n",
        "2. **For Outlook (Sunny/Cloudy):**\n",
        "   - **Sunny:** Days \\(D_1, D_2, D_4, D_7\\) → Yes = 1, No = 3  \n",
        "     $$\n",
        "     Entropy_{Sunny} = -\\left(\\frac{3}{4} \\log_2 \\frac{3}{4} + \\frac{1}{4} \\log_2 \\frac{1}{4}\\right) = 0.811\n",
        "     $$\n",
        "   - **Cloudy:** Days \\(D_3, D_5, D_6\\) → Yes = 2, No = 1  \n",
        "     $$\n",
        "     Entropy_{Cloudy} = -\\left(\\frac{2}{3} \\log_2 \\frac{2}{3} + \\frac{1}{3} \\log_2 \\frac{1}{3}\\right) = 0.918\n",
        "     $$\n",
        "   - **Information Gain (IG):**  \n",
        "     $$\n",
        "     IG(S, Outlook) = 0.985 - \\left(\\frac{4}{7} \\times 0.811 + \\frac{3}{7} \\times 0.918\\right)\n",
        "     = 0.985 - 0.857 = 0.128\n",
        "     $$\n",
        "\n",
        "3. **For Routine (Indoor/Outdoor):**\n",
        "   - **Indoor:** Days \\(D_1, D_3, D_4, D_5\\) → Yes = 1, No = 3  \n",
        "     $$\n",
        "     Entropy_{Indoor} = 0.811\n",
        "     $$\n",
        "   - **Outdoor:** Days \\(D_2, D_6, D_7\\) → Yes = 2, No = 1  \n",
        "     $$\n",
        "     Entropy_{Outdoor} = 0.918\n",
        "     $$\n",
        "   - **Information Gain (IG):**  \n",
        "     $$\n",
        "     IG(S, Routine) = 0.985 - \\left(\\frac{4}{7} \\times 0.811 + \\frac{3}{7} \\times 0.918\\right)\n",
        "     = 0.128\n",
        "     $$\n",
        "\n",
        "Let's continue classifying further after splitting by **Temperature** in the decision tree.\n",
        "\n",
        "- **Root Node:** **Temperature**\n",
        "  - **If Temperature = Warm:** (Days \\(D_2, D_3, D_4\\))  \n",
        "    All outcomes = **No Coat** → Pure node, no further split needed.\n",
        "  - **If Temperature = Cold:** (Days \\(D_1, D_5, D_6, D_7\\))  \n",
        "    Outcomes = Yes (3), No (1) → Requires further splitting.\n",
        "\n",
        "---\n",
        "\n",
        "### **Step 3: Splitting Cold Days Further**\n",
        "\n",
        "**1. Splitting on Outlook:**\n",
        "\n",
        "- **Sunny:** \\(D_1, D_7\\) → Yes = 1, No = 1  \n",
        "  $$\n",
        "  Entropy_{Sunny} = -\\left(\\frac{1}{2} \\log_2 \\frac{1}{2} + \\frac{1}{2} \\log_2 \\frac{1}{2}\\right) = 1\n",
        "  $$\n",
        "- **Cloudy:** \\(D_5, D_6\\) → Yes = 2, No = 0 (Pure node)  \n",
        "  $$\n",
        "  Entropy_{Cloudy} = 0\n",
        "  $$\n",
        "- **Information Gain:**\n",
        "  $$\n",
        "  IG = 0.811 - \\left(\\frac{2}{4} \\times 1 + \\frac{2}{4} \\times 0\\right)\n",
        "  = 0.811 - 0.5 = 0.311\n",
        "  $$\n",
        "\n",
        "\n",
        "**2. Splitting on Routine:**\n",
        "- **Indoor:** \\(D_1, D_5\\) → Yes = 1, No = 1  \n",
        "  $$\n",
        "  Entropy_{Indoor} = 1\n",
        "  $$\n",
        "- **Outdoor:** \\(D_6, D_7\\) → Yes = 2, No = 0 (Pure node)  \n",
        "  $$\n",
        "  Entropy_{Outdoor} = 0\n",
        "  $$\n",
        "- **Information Gain:**\n",
        "  $$\n",
        "  IG = 0.811 - \\left(\\frac{2}{4} \\times 1 + \\frac{2}{4} \\times 0\\right)\n",
        "  = 0.811 - 0.5 = 0.311\n",
        "  $$\n",
        "\n",
        "---\n",
        "\n",
        "### **Step 4: Final Decision Tree Structure**\n",
        "\n",
        "Since both **Outlook** and **Routine** provide the same information gain (0.311), we can choose either. Let's choose **Outlook** for simplicity.\n",
        "\n",
        "```\n",
        "               Temperature\n",
        "               /        \\\n",
        "          Cold            Warm\n",
        "         /                  \\\n",
        "    Outlook               No Coat\n",
        "   /       \\\n",
        "Sunny     Cloudy\n",
        " /   \\       \\\n",
        "No   Yes     Yes\n",
        "```\n",
        "\n",
        "- **If Temperature = Warm → No Coat (Pure Node)**\n",
        "- **If Temperature = Cold:**\n",
        "  - **If Outlook = Cloudy → Yes (Pure Node)**\n",
        "  - **If Outlook = Sunny:**\n",
        "    - **If Routine = Indoor → No**\n",
        "    - **If Routine = Outdoor → Yes**\n",
        "\n",
        "\n",
        "#### **Step 3: Build the Decision Tree**\n",
        "\n",
        "Since **Temperature** has the highest IG (0.522), it becomes the **root node**.\n",
        "\n",
        "- If **Temperature = Warm** → **No Coat** (pure node).\n",
        "- If **Temperature = Cold**, split based on **Outlook** or **Routine** to classify further.\n",
        "\n",
        "---\n",
        "\n",
        "### **Random Forest (Using the Dataset)**\n",
        "\n",
        "1. **Bootstrap Sampling:**\n",
        "   - Create multiple subsets of the dataset with random sampling (some data points may repeat).\n",
        "\n",
        "2. **Building Decision Trees:**\n",
        "   - Each subset trains a decision tree.\n",
        "   - Randomly select features (e.g., one tree may consider only **Temperature** and **Outlook**).\n",
        "\n",
        "3. **Voting for Final Prediction:**\n",
        "   - For a new day, each tree predicts \"Yes\" or \"No\" for wearing a coat.\n",
        "   - The majority vote is the final decision:\n",
        "     $$\n",
        "     \\hat{y} = \\text{mode}\\{h_1(x), h_2(x), \\dots, h_T(x)\\}\n",
        "     $$\n",
        "\n",
        "#### **Key Differences from Decision Tree:**\n",
        "- **Random Forest** reduces overfitting by averaging multiple trees.\n",
        "- It handles noisy data better due to feature randomness and bootstrapping."
      ]
    },
    {
      "cell_type": "code",
      "execution_count": null,
      "metadata": {
        "id": "EyUcLcNxssGJ"
      },
      "outputs": [],
      "source": [
        "# Import necessary libraries\n",
        "import pandas as pd\n",
        "from sklearn.datasets import load_wine\n",
        "from sklearn.model_selection import train_test_split\n",
        "from sklearn.tree import DecisionTreeClassifier\n",
        "from sklearn.ensemble import RandomForestClassifier\n",
        "from sklearn.metrics import accuracy_score"
      ]
    },
    {
      "cell_type": "code",
      "execution_count": null,
      "metadata": {
        "colab": {
          "base_uri": "https://localhost:8080/"
        },
        "id": "DlJN4iGO0fWK",
        "outputId": "06dc2342-8b9b-4fd6-dd6f-a91637ebb864"
      },
      "outputs": [
        {
          "name": "stdout",
          "output_type": "stream",
          "text": [
            "   alcohol  malic_acid   ash  alcalinity_of_ash  magnesium  total_phenols  \\\n",
            "0    14.23        1.71  2.43               15.6      127.0           2.80   \n",
            "1    13.20        1.78  2.14               11.2      100.0           2.65   \n",
            "2    13.16        2.36  2.67               18.6      101.0           2.80   \n",
            "3    14.37        1.95  2.50               16.8      113.0           3.85   \n",
            "4    13.24        2.59  2.87               21.0      118.0           2.80   \n",
            "\n",
            "   flavanoids  nonflavanoid_phenols  proanthocyanins  color_intensity   hue  \\\n",
            "0        3.06                  0.28             2.29             5.64  1.04   \n",
            "1        2.76                  0.26             1.28             4.38  1.05   \n",
            "2        3.24                  0.30             2.81             5.68  1.03   \n",
            "3        3.49                  0.24             2.18             7.80  0.86   \n",
            "4        2.69                  0.39             1.82             4.32  1.04   \n",
            "\n",
            "   od280/od315_of_diluted_wines  proline  target  \n",
            "0                          3.92   1065.0       0  \n",
            "1                          3.40   1050.0       0  \n",
            "2                          3.17   1185.0       0  \n",
            "3                          3.45   1480.0       0  \n",
            "4                          2.93    735.0       0  \n"
          ]
        }
      ],
      "source": [
        "data = load_wine()\n",
        "\n",
        "df = pd.DataFrame(data.data, columns=data.feature_names)\n",
        "df['target'] = data.target\n",
        "print(df.head())\n",
        "\n",
        "X = data.data\n",
        "y = data.target"
      ]
    },
    {
      "cell_type": "code",
      "execution_count": null,
      "metadata": {
        "id": "rsOjojPN03N_"
      },
      "outputs": [],
      "source": [
        "X_train, X_test, y_train, y_test = train_test_split(X, y, test_size=0.2, random_state=42)"
      ]
    },
    {
      "cell_type": "code",
      "execution_count": null,
      "metadata": {
        "id": "lFuS0O9L1Izv"
      },
      "outputs": [],
      "source": [
        "# 1. Decision Tree Classifier\n",
        "dt_model = DecisionTreeClassifier(random_state=42)\n",
        "dt_model.fit(X_train, y_train)\n",
        "y_pred_dt = dt_model.predict(X_test)"
      ]
    },
    {
      "cell_type": "code",
      "execution_count": null,
      "metadata": {
        "id": "fssy6Sxz1Lln"
      },
      "outputs": [],
      "source": [
        "# 2. Random Forest Classifier\n",
        "rf_model = RandomForestClassifier(n_estimators=100, random_state=42)\n",
        "rf_model.fit(X_train, y_train)\n",
        "y_pred_rf = rf_model.predict(X_test)"
      ]
    },
    {
      "cell_type": "code",
      "execution_count": null,
      "metadata": {
        "id": "TkPPv9oz1Nsj"
      },
      "outputs": [],
      "source": [
        "# Evaluate the models\n",
        "accuracy_dt = accuracy_score(y_test, y_pred_dt)\n",
        "accuracy_rf = accuracy_score(y_test, y_pred_rf)"
      ]
    },
    {
      "cell_type": "code",
      "execution_count": null,
      "metadata": {
        "colab": {
          "base_uri": "https://localhost:8080/"
        },
        "id": "kwi554T71RAj",
        "outputId": "cc729d67-6250-405d-d50d-19e60913c321"
      },
      "outputs": [
        {
          "name": "stdout",
          "output_type": "stream",
          "text": [
            "Decision Tree Accuracy: 94.44%\n",
            "Random Forest Accuracy: 100.00%\n"
          ]
        }
      ],
      "source": [
        "# Output the results\n",
        "print(f\"Decision Tree Accuracy: {accuracy_dt * 100:.2f}%\")\n",
        "print(f\"Random Forest Accuracy: {accuracy_rf * 100:.2f}%\")"
      ]
    },
    {
      "cell_type": "markdown",
      "metadata": {
        "id": "OyfC32HdGNPh"
      },
      "source": [
        "# Naive Bayes\n",
        "\n",
        "https://colab.research.google.com/drive/1_u6CnH0OaccROieJ9yWDFvYiDYNqzhfa#scrollTo=53166665-e99e-45b7-9cc9-aef28a188b68"
      ]
    },
    {
      "cell_type": "markdown",
      "metadata": {
        "id": "JKUe882lRIsU"
      },
      "source": [
        "# KNN Algorithm"
      ]
    },
    {
      "cell_type": "code",
      "execution_count": null,
      "metadata": {
        "colab": {
          "base_uri": "https://localhost:8080/"
        },
        "id": "zVlWJOBBRLCZ",
        "outputId": "88ed8024-d255-4372-a274-608dadc49f5d"
      },
      "outputs": [
        {
          "name": "stdout",
          "output_type": "stream",
          "text": [
            "most_common [(1.0, 3)]\n",
            "Predicted class for test point [5.3 2.5]: 1.0\n"
          ]
        }
      ],
      "source": [
        "import numpy as np\n",
        "from collections import Counter\n",
        "\n",
        "dataset = np.array([\n",
        "    [2.5, 3.4, 0],\n",
        "    [1.3, 2.3, 0],\n",
        "    [3.1, 4.0, 0],\n",
        "    [5.4, 2.1, 1],\n",
        "    [6.2, 3.2, 1],\n",
        "    [5.8, 4.2, 1],\n",
        "    [3.5, 5.1, 0],\n",
        "    [4.5, 3.8, 1],\n",
        "    [6.1, 2.8, 1],\n",
        "    [2.0, 3.0, 0]\n",
        "])\n",
        "\n",
        "X_train = dataset[:, :-1]\n",
        "y_train = dataset[:, -1]\n",
        "\n",
        "def euclidean_distance(point1, point2):\n",
        "    return np.sqrt(((point1[0] - point2[0]) ** 2) + ((point1[1] - point2[1]) ** 2))\n",
        "\n",
        "def knn_classify(X_train, y_train, test_point, k):\n",
        "    distances = []\n",
        "\n",
        "    for i in range(len(X_train)):\n",
        "        dist = euclidean_distance(X_train[i], test_point)\n",
        "        distances.append((dist, y_train[i]))\n",
        "\n",
        "    distances.sort(key=lambda x: x[0])\n",
        "    k_nearest_labels = []\n",
        "\n",
        "    for i in range(k):\n",
        "      k_nearest_labels.append(distances[i][1])\n",
        "\n",
        "    most_common = Counter(k_nearest_labels).most_common(1)\n",
        "\n",
        "    print(\"most_common\", most_common)\n",
        "\n",
        "    return most_common[0][0]\n",
        "\n",
        "test_point = np.array([5.3, 2.5])\n",
        "k = 3\n",
        "predicted_label = knn_classify(X_train, y_train, test_point, k)\n",
        "\n",
        "print(f\"Predicted class for test point {test_point}: {predicted_label}\")"
      ]
    },
    {
      "cell_type": "code",
      "execution_count": null,
      "metadata": {
        "colab": {
          "base_uri": "https://localhost:8080/"
        },
        "id": "AVEMiBm_RLTD",
        "outputId": "7c73dcee-0503-4ff8-d7a0-fad396364e5e"
      },
      "outputs": [
        {
          "name": "stdout",
          "output_type": "stream",
          "text": [
            "KNN Accuracy: 1.00\n",
            "Predicted class: setosa\n"
          ]
        }
      ],
      "source": [
        "import numpy as np\n",
        "import pandas as pd\n",
        "from sklearn.datasets import load_iris\n",
        "from sklearn.model_selection import train_test_split\n",
        "from sklearn.neighbors import KNeighborsClassifier\n",
        "from sklearn.metrics import accuracy_score\n",
        "\n",
        "iris = load_iris()\n",
        "X = iris.data\n",
        "y = iris.target\n",
        "\n",
        "X_train, X_test, y_train, y_test = train_test_split(X, y, test_size=0.2, random_state=42)\n",
        "\n",
        "k = 3\n",
        "knn = KNeighborsClassifier(n_neighbors=k)\n",
        "knn.fit(X_train, y_train)\n",
        "\n",
        "y_pred = knn.predict(X_test)\n",
        "\n",
        "accuracy = accuracy_score(y_test, y_pred)\n",
        "print(f\"KNN Accuracy: {accuracy:.2f}\")\n",
        "\n",
        "new_sample = np.array([[5.1, 3.5, 1.4, 0.2]])\n",
        "predicted_class = knn.predict(new_sample)\n",
        "print(f\"Predicted class: {iris.target_names[predicted_class[0]]}\")"
      ]
    },
    {
      "cell_type": "markdown",
      "metadata": {
        "id": "qSIbIsj8UVz4"
      },
      "source": [
        "# K-means clustering"
      ]
    },
    {
      "cell_type": "code",
      "execution_count": null,
      "metadata": {
        "colab": {
          "base_uri": "https://localhost:8080/",
          "height": 465
        },
        "id": "Op3xKx7QUX4t",
        "outputId": "ffa5f062-a19b-43d0-8228-67984d5ef6c4"
      },
      "outputs": [
        {
          "name": "stdout",
          "output_type": "stream",
          "text": [
            "Centroids:  [[8 2]\n",
            " [2 3]]\n"
          ]
        },
        {
          "data": {
            "image/png": "[encoded data removed]",
            "text/plain": [
              "<Figure size 640x480 with 1 Axes>"
            ]
          },
          "metadata": {},
          "output_type": "display_data"
        }
      ],
      "source": [
        "import numpy as np\n",
        "import matplotlib.pyplot as plt\n",
        "\n",
        "X = np.array([[1, 2], [2, 3], [3, 3], [6, 8], [7, 9], [8, 7],\n",
        "              [2, 8], [3, 7], [8, 2], [7, 3]])\n",
        "\n",
        "k = 2\n",
        "\n",
        "np.random.seed(42)\n",
        "centroids = X[np.random.choice(len(X), k, replace=False)]\n",
        "print(\"Centroids: \", centroids)\n",
        "\n",
        "def euclidean_distance(point1, point2):\n",
        "    return np.sqrt(((point1[0] - point2[0]) ** 2) + ((point1[1] - point2[1]) ** 2))\n",
        "\n",
        "max_iterations = 10\n",
        "\n",
        "for i in range(max_iterations):\n",
        "    clusters = [[] for i in range(k)] # [[][]]\n",
        "\n",
        "    for point in X:\n",
        "        distances = [euclidean_distance(point, centroid) for centroid in centroids]\n",
        "        closest_cluster = np.argmin(distances) #argmin: find the index of the smallest value in the distances array\n",
        "        clusters[closest_cluster].append(point)\n",
        "\n",
        "    new_centroids = []\n",
        "    for i in range(k):\n",
        "        if len(clusters[i]) > 0:\n",
        "            new_centroids.append(np.mean(clusters[i], axis=0))  # Mean of points in the cluster\n",
        "        else:\n",
        "            new_centroids.append(centroids[i])  # Keep old centroid if cluster is empty\n",
        "\n",
        "    if np.all(centroids == new_centroids):\n",
        "        break\n",
        "\n",
        "    centroids = new_centroids\n",
        "\n",
        "clusters = [[] for _ in range(k)]\n",
        "for point in X:\n",
        "    distances = [euclidean_distance(point, centroid) for centroid in centroids]\n",
        "    closest_cluster = np.argmin(distances)\n",
        "    clusters[closest_cluster].append(point)\n",
        "\n",
        "colors = ['r', 'b']\n",
        "for i, cluster in enumerate(clusters):\n",
        "    cluster_points = np.array(cluster)\n",
        "    plt.scatter(cluster_points[:, 0], cluster_points[:, 1], c=colors[i], label=f'Cluster {i+1}')\n",
        "\n",
        "plt.scatter(centroids[:, 0], centroids[:, 1], marker='x', s=200, c='black', label='Centroids')\n",
        "plt.legend()\n",
        "plt.show()"
      ]
    },
    {
      "cell_type": "code",
      "execution_count": null,
      "metadata": {
        "colab": {
          "base_uri": "https://localhost:8080/",
          "height": 452
        },
        "id": "UwVP_c02WHsV",
        "outputId": "d42da4fe-b980-4750-8224-e5c5aa38dd76"
      },
      "outputs": [
        {
          "data": {
            "image/png": "[encoded data removed]",
            "text/plain": [
              "<Figure size 640x480 with 1 Axes>"
            ]
          },
          "metadata": {},
          "output_type": "display_data"
        }
      ],
      "source": [
        "import numpy as np\n",
        "import matplotlib.pyplot as plt\n",
        "from sklearn.datasets import load_iris\n",
        "from sklearn.cluster import KMeans\n",
        "from sklearn.decomposition import PCA\n",
        "\n",
        "iris = load_iris()\n",
        "X = iris.data\n",
        "\n",
        "kmeans = KMeans(n_clusters=3, random_state=42, n_init=10)\n",
        "kmeans.fit(X)\n",
        "\n",
        "labels = kmeans.labels_\n",
        "centroids = kmeans.cluster_centers_\n",
        "\n",
        "pca = PCA(n_components=2)\n",
        "X_2d = pca.fit_transform(X)\n",
        "centroids_2d = pca.transform(centroids)\n",
        "\n",
        "plt.scatter(X_2d[:, 0], X_2d[:, 1], c=labels, cmap='viridis', alpha=0.7)\n",
        "plt.scatter(centroids_2d[:, 0], centroids_2d[:, 1], marker='x', s=200, c='red', label='Centroids')\n",
        "plt.title(\"K-Means Clustering on Iris Dataset\")\n",
        "plt.legend()\n",
        "plt.show()"
      ]
    }
  ],
  "metadata": {
    "colab": {
      "collapsed_sections": [
        "3vxuuYH3IKB9",
        "XKEuk6VA9bFx",
        "G_fnebCBgNyh"
      ],
      "provenance": []
    },
    "kernelspec": {
      "display_name": "Python 3",
      "name": "python3"
    },
    "language_info": {
      "name": "python"
    }
  },
  "nbformat": 4,
  "nbformat_minor": 0
}
